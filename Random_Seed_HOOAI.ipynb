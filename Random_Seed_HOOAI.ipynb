{
  "nbformat": 4,
  "nbformat_minor": 0,
  "metadata": {
    "colab": {
      "name": "Random Seed_HOOAI.ipynb",
      "provenance": [],
      "authorship_tag": "ABX9TyOY+0zFSNENhyDRAvQ2kUmI",
      "include_colab_link": true
    },
    "kernelspec": {
      "name": "python3",
      "display_name": "Python 3"
    },
    "language_info": {
      "name": "python"
    }
  },
  "cells": [
    {
      "cell_type": "markdown",
      "metadata": {
        "id": "view-in-github",
        "colab_type": "text"
      },
      "source": [
        "<a href=\"https://colab.research.google.com/github/WhoisHOO/HOOAI/blob/main/Random_Seed_HOOAI.ipynb\" target=\"_parent\"><img src=\"https://colab.research.google.com/assets/colab-badge.svg\" alt=\"Open In Colab\"/></a>"
      ]
    },
    {
      "cell_type": "markdown",
      "source": [
        "# New Section"
      ],
      "metadata": {
        "id": "K6mt05cnswi8"
      }
    },
    {
      "cell_type": "code",
      "source": [
        "import random\n",
        "\n",
        "random.seed(10)\n",
        "print(random.random())\n"
      ],
      "metadata": {
        "id": "9RBYFovEpJhC",
        "colab": {
          "base_uri": "https://localhost:8080/"
        },
        "outputId": "36a91bdd-6c21-4a5e-ed7c-a89330386a25"
      },
      "execution_count": 34,
      "outputs": [
        {
          "output_type": "stream",
          "name": "stdout",
          "text": [
            "0.5714025946899135\n"
          ]
        }
      ]
    },
    {
      "cell_type": "code",
      "source": [
        "random.seed(5)\n",
        "print(random.random())"
      ],
      "metadata": {
        "colab": {
          "base_uri": "https://localhost:8080/"
        },
        "id": "I7SHr94kBEc-",
        "outputId": "27e0d58c-c53e-4586-a5c7-fdb1e7ff09cb"
      },
      "execution_count": 41,
      "outputs": [
        {
          "output_type": "stream",
          "name": "stdout",
          "text": [
            "0.6229016948897019\n"
          ]
        }
      ]
    },
    {
      "cell_type": "code",
      "source": [
        "random.seed(10)\n",
        "print(random.random())"
      ],
      "metadata": {
        "colab": {
          "base_uri": "https://localhost:8080/"
        },
        "id": "-N0P2w6UBAWQ",
        "outputId": "f4a3f367-26b0-477f-e033-aff73dd58b7d"
      },
      "execution_count": 40,
      "outputs": [
        {
          "output_type": "stream",
          "name": "stdout",
          "text": [
            "0.5714025946899135\n"
          ]
        }
      ]
    },
    {
      "cell_type": "code",
      "source": [
        "import numpy as np\n",
        "\n",
        "np.random.seed(10)\n",
        "np.random.rand(5)"
      ],
      "metadata": {
        "colab": {
          "base_uri": "https://localhost:8080/"
        },
        "id": "riWxxYd4_hth",
        "outputId": "30687b3a-9679-4747-87c3-5f5d2fd0cf7b"
      },
      "execution_count": 35,
      "outputs": [
        {
          "output_type": "execute_result",
          "data": {
            "text/plain": [
              "array([0.77132064, 0.02075195, 0.63364823, 0.74880388, 0.49850701])"
            ]
          },
          "metadata": {},
          "execution_count": 35
        }
      ]
    },
    {
      "cell_type": "code",
      "source": [
        "np.random.rand(10)"
      ],
      "metadata": {
        "colab": {
          "base_uri": "https://localhost:8080/"
        },
        "id": "y6ZUmsAIADJg",
        "outputId": "6d828371-a835-4534-fd69-eaed2720e553"
      },
      "execution_count": 36,
      "outputs": [
        {
          "output_type": "execute_result",
          "data": {
            "text/plain": [
              "array([0.22479665, 0.19806286, 0.76053071, 0.16911084, 0.08833981,\n",
              "       0.68535982, 0.95339335, 0.00394827, 0.51219226, 0.81262096])"
            ]
          },
          "metadata": {},
          "execution_count": 36
        }
      ]
    },
    {
      "cell_type": "code",
      "source": [
        "np.random.seed(10)"
      ],
      "metadata": {
        "id": "3FUrcVgqAKwU"
      },
      "execution_count": 37,
      "outputs": []
    },
    {
      "cell_type": "code",
      "source": [
        "np.random.rand(5)"
      ],
      "metadata": {
        "colab": {
          "base_uri": "https://localhost:8080/"
        },
        "id": "KCZMB23zAOJy",
        "outputId": "1d713947-4d2f-4adb-fcb0-3223ea93d253"
      },
      "execution_count": 38,
      "outputs": [
        {
          "output_type": "execute_result",
          "data": {
            "text/plain": [
              "array([0.77132064, 0.02075195, 0.63364823, 0.74880388, 0.49850701])"
            ]
          },
          "metadata": {},
          "execution_count": 38
        }
      ]
    },
    {
      "cell_type": "code",
      "source": [
        "np.random.rand(10)"
      ],
      "metadata": {
        "colab": {
          "base_uri": "https://localhost:8080/"
        },
        "id": "URyQwDxhApqs",
        "outputId": "26936f2f-6ab6-4e75-8755-e02f55961a6c"
      },
      "execution_count": 39,
      "outputs": [
        {
          "output_type": "execute_result",
          "data": {
            "text/plain": [
              "array([0.22479665, 0.19806286, 0.76053071, 0.16911084, 0.08833981,\n",
              "       0.68535982, 0.95339335, 0.00394827, 0.51219226, 0.81262096])"
            ]
          },
          "metadata": {},
          "execution_count": 39
        }
      ]
    }
  ]
}