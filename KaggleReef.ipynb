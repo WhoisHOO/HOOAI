{
  "nbformat": 4,
  "nbformat_minor": 0,
  "metadata": {
    "colab": {
      "name": "KaggleTrial.ipynb",
      "provenance": [],
      "collapsed_sections": [],
      "authorship_tag": "ABX9TyN4q0am5QDFoNdUrXM0WhkI",
      "include_colab_link": true
    },
    "kernelspec": {
      "name": "python3",
      "display_name": "Python 3"
    },
    "language_info": {
      "name": "python"
    }
  },
  "cells": [
    {
      "cell_type": "markdown",
      "metadata": {
        "id": "view-in-github",
        "colab_type": "text"
      },
      "source": [
        "<a href=\"https://colab.research.google.com/github/WhoisHOO/HOOAI/blob/main/KaggleReef.ipynb\" target=\"_parent\"><img src=\"https://colab.research.google.com/assets/colab-badge.svg\" alt=\"Open In Colab\"/></a>"
      ]
    },
    {
      "cell_type": "code",
      "execution_count": 1,
      "metadata": {
        "id": "_geAvmn_aUFh"
      },
      "outputs": [],
      "source": [
        "!pip install -q kaggle"
      ]
    },
    {
      "cell_type": "code",
      "source": [
        "from google.colab import files \n",
        "files.upload()"
      ],
      "metadata": {
        "colab": {
          "resources": {
            "http://localhost:8080/nbextensions/google.colab/files.js": {
              "data": "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",
              "ok": true,
              "headers": [
                [
                  "content-type",
                  "application/javascript"
                ]
              ],
              "status": 200,
              "status_text": ""
            }
          },
          "base_uri": "https://localhost:8080/",
          "height": 95
        },
        "id": "T1ygPtfbaokO",
        "outputId": "af844689-101f-4b3a-a1b9-dfd67e752280"
      },
      "execution_count": 3,
      "outputs": [
        {
          "output_type": "display_data",
          "data": {
            "text/html": [
              "\n",
              "     <input type=\"file\" id=\"files-797fb6a2-c02d-48dd-9f36-b70af3254d9e\" name=\"files[]\" multiple disabled\n",
              "        style=\"border:none\" />\n",
              "     <output id=\"result-797fb6a2-c02d-48dd-9f36-b70af3254d9e\">\n",
              "      Upload widget is only available when the cell has been executed in the\n",
              "      current browser session. Please rerun this cell to enable.\n",
              "      </output>\n",
              "      <script src=\"/nbextensions/google.colab/files.js\"></script> "
            ],
            "text/plain": [
              "<IPython.core.display.HTML object>"
            ]
          },
          "metadata": {}
        },
        {
          "output_type": "stream",
          "name": "stdout",
          "text": [
            "Saving kaggle.json to kaggle.json\n"
          ]
        },
        {
          "output_type": "execute_result",
          "data": {
            "text/plain": [
              "{'kaggle.json': b'{\"username\":\"whoishoo\",\"key\":\"833d4923cce4a900bd0dd570a2e0393c\"}'}"
            ]
          },
          "metadata": {},
          "execution_count": 3
        }
      ]
    },
    {
      "cell_type": "code",
      "source": [
        "! mkdir ~/.kaggle"
      ],
      "metadata": {
        "id": "UPWrkMlecvrO"
      },
      "execution_count": 4,
      "outputs": []
    },
    {
      "cell_type": "code",
      "source": [
        "! cp kaggle.json ~/.kaggle/"
      ],
      "metadata": {
        "id": "YEu-YPppcx6N"
      },
      "execution_count": 5,
      "outputs": []
    },
    {
      "cell_type": "code",
      "source": [
        "! chmod 600 ~/.kaggle/kaggle.json"
      ],
      "metadata": {
        "id": "taS1uB1Ac1HV"
      },
      "execution_count": 7,
      "outputs": []
    },
    {
      "cell_type": "code",
      "source": [
        "! kaggle datasets list"
      ],
      "metadata": {
        "colab": {
          "base_uri": "https://localhost:8080/"
        },
        "id": "-CkTmiQAdH0l",
        "outputId": "456609e7-59b5-4681-bbe5-6cbb1cc46e02"
      },
      "execution_count": 8,
      "outputs": [
        {
          "output_type": "stream",
          "name": "stdout",
          "text": [
            "Warning: Looks like you're using an outdated API Version, please consider updating (server 1.5.12 / client 1.5.4)\n",
            "ref                                                         title                                              size  lastUpdated          downloadCount  \n",
            "----------------------------------------------------------  ------------------------------------------------  -----  -------------------  -------------  \n",
            "gpreda/reddit-vaccine-myths                                 Reddit Vaccine Myths                              237KB  2021-12-12 11:59:54          18462  \n",
            "crowww/a-large-scale-fish-dataset                           A Large Scale Fish Dataset                          3GB  2021-04-28 17:03:01          11139  \n",
            "imsparsh/musicnet-dataset                                   MusicNet Dataset                                   22GB  2021-02-18 14:12:19           5694  \n",
            "dhruvildave/wikibooks-dataset                               Wikibooks Dataset                                   2GB  2021-10-22 10:48:21           3934  \n",
            "nickuzmenkov/nih-chest-xrays-tfrecords                      NIH Chest X-rays TFRecords                         11GB  2021-03-09 04:49:23           1965  \n",
            "promptcloud/careerbuilder-job-listing-2020                  Careerbuilder Job Listing 2020                     42MB  2021-03-05 06:59:52           3073  \n",
            "mathurinache/twitter-edge-nodes                             Twitter Edge Nodes                                342MB  2021-03-08 06:43:04           1478  \n",
            "fatiimaezzahra/famous-iconic-women                          Famous Iconic Women                               838MB  2021-02-28 14:56:00           2165  \n",
            "mathurinache/the-lj-speech-dataset                          The LJ Speech Dataset                               3GB  2021-02-15 09:19:54            596  \n",
            "coloradokb/dandelionimages                                  DandelionImages                                     4GB  2021-02-19 20:03:47           1160  \n",
            "alsgroup/end-als                                            End ALS Kaggle Challenge                           12GB  2021-04-08 12:16:37           1209  \n",
            "simiotic/github-code-snippets                               GitHub Code Snippets                                7GB  2021-03-03 11:34:39            571  \n",
            "imsparsh/accentdb-core-extended                             AccentDB - Core & Extended                          6GB  2021-02-17 14:22:54            209  \n",
            "stuartjames/lights                                          LightS: Light Specularity Dataset                  18GB  2021-02-18 14:32:26            269  \n",
            "nickuzmenkov/ranzcr-clip-kfold-tfrecords                    RANZCR CLiP KFold TFRecords                         2GB  2021-02-21 13:29:51            176  \n",
            "landrykezebou/lvzhdr-tone-mapping-benchmark-dataset-tmonet  LVZ-HDR Tone Mapping Benchmark Dataset (TMO-Net)   24GB  2021-03-01 05:03:40            276  \n",
            "datasnaek/youtube-new                                       Trending YouTube Video Statistics                 201MB  2019-06-03 00:56:47         162791  \n",
            "zynicide/wine-reviews                                       Wine Reviews                                       51MB  2017-11-27 17:08:04         152094  \n",
            "residentmario/ramen-ratings                                 Ramen Ratings                                      40KB  2018-01-11 16:04:39          31613  \n",
            "datasnaek/chess                                             Chess Game Dataset (Lichess)                        3MB  2017-09-04 03:09:09          26771  \n"
          ]
        }
      ]
    },
    {
      "cell_type": "code",
      "source": [
        "!kaggle competitions download -c tensorflow-great-barrier-reef"
      ],
      "metadata": {
        "colab": {
          "base_uri": "https://localhost:8080/"
        },
        "id": "4QrAzKBgd0Kl",
        "outputId": "4e1e12de-2813-445c-f961-7101c4942c88"
      },
      "execution_count": 10,
      "outputs": [
        {
          "output_type": "stream",
          "name": "stdout",
          "text": [
            "Warning: Looks like you're using an outdated API Version, please consider updating (server 1.5.12 / client 1.5.4)\n",
            "Downloading 10012.jpg to /content\n",
            "  0% 0.00/587k [00:00<?, ?B/s]\n",
            "100% 587k/587k [00:00<00:00, 40.5MB/s]\n",
            "Downloading 10002.jpg to /content\n",
            "  0% 0.00/721k [00:00<?, ?B/s]\n",
            "100% 721k/721k [00:00<00:00, 101MB/s]\n",
            "Downloading 1000.jpg to /content\n",
            "  0% 0.00/755k [00:00<?, ?B/s]\n",
            "100% 755k/755k [00:00<00:00, 49.8MB/s]\n",
            "Downloading 10003.jpg to /content\n",
            "  0% 0.00/720k [00:00<?, ?B/s]\n",
            "100% 720k/720k [00:00<00:00, 77.0MB/s]\n",
            "Downloading 10001.jpg to /content\n",
            "  0% 0.00/726k [00:00<?, ?B/s]\n",
            "100% 726k/726k [00:00<00:00, 47.6MB/s]\n",
            "Downloading 10004.jpg to /content\n",
            "  0% 0.00/713k [00:00<?, ?B/s]\n",
            "100% 713k/713k [00:00<00:00, 47.0MB/s]\n",
            "Downloading 10.jpg to /content\n",
            "  0% 0.00/718k [00:00<?, ?B/s]\n",
            "100% 718k/718k [00:00<00:00, 68.7MB/s]\n",
            "Downloading 1.jpg to /content\n",
            "  0% 0.00/711k [00:00<?, ?B/s]\n",
            "100% 711k/711k [00:00<00:00, 73.6MB/s]\n",
            "Downloading 10008.jpg to /content\n",
            "  0% 0.00/703k [00:00<?, ?B/s]\n",
            "100% 703k/703k [00:00<00:00, 46.4MB/s]\n",
            "Downloading 10000.jpg to /content\n",
            "  0% 0.00/724k [00:00<?, ?B/s]\n",
            "100% 724k/724k [00:00<00:00, 46.2MB/s]\n",
            "Downloading 10009.jpg to /content\n",
            "  0% 0.00/677k [00:00<?, ?B/s]\n",
            "100% 677k/677k [00:00<00:00, 43.8MB/s]\n",
            "Downloading 10005.jpg to /content\n",
            "  0% 0.00/713k [00:00<?, ?B/s]\n",
            "100% 713k/713k [00:00<00:00, 47.0MB/s]\n",
            "Downloading 0.jpg to /content\n",
            "  0% 0.00/701k [00:00<?, ?B/s]\n",
            "100% 701k/701k [00:00<00:00, 99.5MB/s]\n",
            "Downloading 10013.jpg to /content\n",
            "  0% 0.00/581k [00:00<?, ?B/s]\n",
            "100% 581k/581k [00:00<00:00, 78.2MB/s]\n",
            "Downloading 10006.jpg to /content\n",
            "  0% 0.00/712k [00:00<?, ?B/s]\n",
            "100% 712k/712k [00:00<00:00, 98.2MB/s]\n",
            "Downloading 10010.jpg to /content\n",
            "  0% 0.00/643k [00:00<?, ?B/s]\n",
            "100% 643k/643k [00:00<00:00, 42.9MB/s]\n",
            "Downloading 10011.jpg to /content\n",
            "  0% 0.00/616k [00:00<?, ?B/s]\n",
            "100% 616k/616k [00:00<00:00, 70.8MB/s]\n",
            "Downloading 10007.jpg to /content\n",
            "  0% 0.00/716k [00:00<?, ?B/s]\n",
            "100% 716k/716k [00:00<00:00, 46.8MB/s]\n",
            "Downloading 1001.jpg to /content\n",
            "  0% 0.00/752k [00:00<?, ?B/s]\n",
            "100% 752k/752k [00:00<00:00, 49.4MB/s]\n",
            "Downloading 100.jpg to /content\n",
            "  0% 0.00/728k [00:00<?, ?B/s]\n",
            "100% 728k/728k [00:00<00:00, 47.4MB/s]\n",
            "10012.jpg: Skipping, found more recently modified local copy (use --force to force download)\n",
            "10002.jpg: Skipping, found more recently modified local copy (use --force to force download)\n",
            "1000.jpg: Skipping, found more recently modified local copy (use --force to force download)\n",
            "10003.jpg: Skipping, found more recently modified local copy (use --force to force download)\n",
            "10001.jpg: Skipping, found more recently modified local copy (use --force to force download)\n",
            "10004.jpg: Skipping, found more recently modified local copy (use --force to force download)\n",
            "10.jpg: Skipping, found more recently modified local copy (use --force to force download)\n",
            "1.jpg: Skipping, found more recently modified local copy (use --force to force download)\n",
            "10008.jpg: Skipping, found more recently modified local copy (use --force to force download)\n",
            "10000.jpg: Skipping, found more recently modified local copy (use --force to force download)\n",
            "10009.jpg: Skipping, found more recently modified local copy (use --force to force download)\n",
            "10005.jpg: Skipping, found more recently modified local copy (use --force to force download)\n",
            "0.jpg: Skipping, found more recently modified local copy (use --force to force download)\n",
            "10013.jpg: Skipping, found more recently modified local copy (use --force to force download)\n",
            "10006.jpg: Skipping, found more recently modified local copy (use --force to force download)\n",
            "10010.jpg: Skipping, found more recently modified local copy (use --force to force download)\n",
            "10011.jpg: Skipping, found more recently modified local copy (use --force to force download)\n",
            "10007.jpg: Skipping, found more recently modified local copy (use --force to force download)\n",
            "1001.jpg: Skipping, found more recently modified local copy (use --force to force download)\n",
            "100.jpg: Skipping, found more recently modified local copy (use --force to force download)\n",
            "Downloading 1004.jpg to /content\n",
            "  0% 0.00/704k [00:00<?, ?B/s]\n",
            "100% 704k/704k [00:00<00:00, 85.5MB/s]\n",
            "1000.jpg: Skipping, found more recently modified local copy (use --force to force download)\n",
            "Downloading 1008.jpg to /content\n",
            "  0% 0.00/701k [00:00<?, ?B/s]\n",
            "100% 701k/701k [00:00<00:00, 43.4MB/s]\n",
            "Downloading 1013.jpg to /content\n",
            "  0% 0.00/708k [00:00<?, ?B/s]\n",
            "100% 708k/708k [00:00<00:00, 46.3MB/s]\n",
            "10.jpg: Skipping, found more recently modified local copy (use --force to force download)\n",
            "Downloading 101.jpg to /content\n",
            "  0% 0.00/676k [00:00<?, ?B/s]\n",
            "100% 676k/676k [00:00<00:00, 43.5MB/s]\n",
            "Downloading 1007.jpg to /content\n",
            "  0% 0.00/702k [00:00<?, ?B/s]\n",
            "100% 702k/702k [00:00<00:00, 98.4MB/s]\n",
            "Downloading 1014.jpg to /content\n",
            "  0% 0.00/705k [00:00<?, ?B/s]\n",
            "100% 705k/705k [00:00<00:00, 91.4MB/s]\n",
            "Downloading 1006.jpg to /content\n",
            "  0% 0.00/714k [00:00<?, ?B/s]\n",
            "100% 714k/714k [00:00<00:00, 46.9MB/s]\n",
            "1.jpg: Skipping, found more recently modified local copy (use --force to force download)\n",
            "Downloading 1005.jpg to /content\n",
            "  0% 0.00/718k [00:00<?, ?B/s]\n",
            "100% 718k/718k [00:00<00:00, 47.2MB/s]\n",
            "0.jpg: Skipping, found more recently modified local copy (use --force to force download)\n",
            "Downloading 1012.jpg to /content\n",
            "  0% 0.00/702k [00:00<?, ?B/s]\n",
            "100% 702k/702k [00:00<00:00, 46.0MB/s]\n",
            "Downloading 1009.jpg to /content\n",
            "  0% 0.00/707k [00:00<?, ?B/s]\n",
            "100% 707k/707k [00:00<00:00, 99.5MB/s]\n",
            "Downloading 1002.jpg to /content\n",
            "  0% 0.00/698k [00:00<?, ?B/s]\n",
            "100% 698k/698k [00:00<00:00, 97.3MB/s]\n",
            "1001.jpg: Skipping, found more recently modified local copy (use --force to force download)\n",
            "Downloading 1010.jpg to /content\n",
            "  0% 0.00/703k [00:00<?, ?B/s]\n",
            "100% 703k/703k [00:00<00:00, 45.6MB/s]\n",
            "Downloading 1003.jpg to /content\n",
            "  0% 0.00/704k [00:00<?, ?B/s]\n",
            "100% 704k/704k [00:00<00:00, 44.0MB/s]\n",
            "100.jpg: Skipping, found more recently modified local copy (use --force to force download)\n",
            "Downloading 1011.jpg to /content\n",
            "  0% 0.00/704k [00:00<?, ?B/s]\n",
            "100% 704k/704k [00:00<00:00, 45.9MB/s]\n",
            "Downloading competition.cpython-37m-x86_64-linux-gnu.so to /content\n",
            "  0% 0.00/600k [00:00<?, ?B/s]\n",
            "100% 600k/600k [00:00<00:00, 107MB/s]\n",
            "Downloading __init__.py to /content\n",
            "  0% 0.00/59.0 [00:00<?, ?B/s]\n",
            "100% 59.0/59.0 [00:00<00:00, 73.9kB/s]\n",
            "Downloading example_sample_submission.csv to /content\n",
            "  0% 0.00/77.0 [00:00<?, ?B/s]\n",
            "100% 77.0/77.0 [00:00<00:00, 59.0kB/s]\n",
            "Downloading test.csv to /content\n",
            "  0% 0.00/102 [00:00<?, ?B/s]\n",
            "100% 102/102 [00:00<00:00, 97.0kB/s]\n",
            "Downloading example_test.npy.zip to /content\n",
            " 79% 5.00M/6.35M [00:00<00:00, 16.2MB/s]\n",
            "100% 6.35M/6.35M [00:00<00:00, 18.2MB/s]\n",
            "Downloading train.csv.zip to /content\n",
            "  0% 0.00/267k [00:00<?, ?B/s]\n",
            "100% 267k/267k [00:00<00:00, 148MB/s]\n"
          ]
        }
      ]
    },
    {
      "cell_type": "code",
      "source": [
        "!unzip train.csv.zip"
      ],
      "metadata": {
        "colab": {
          "base_uri": "https://localhost:8080/"
        },
        "id": "fGZ24Iacem4m",
        "outputId": "4514bd43-5e73-4d88-faf3-9bb76c20bf4f"
      },
      "execution_count": 12,
      "outputs": [
        {
          "output_type": "stream",
          "name": "stdout",
          "text": [
            "Archive:  train.csv.zip\n",
            "  inflating: train.csv               \n"
          ]
        }
      ]
    },
    {
      "cell_type": "code",
      "source": [
        ""
      ],
      "metadata": {
        "id": "LrYZHDuHe3AV"
      },
      "execution_count": null,
      "outputs": []
    }
  ]
}